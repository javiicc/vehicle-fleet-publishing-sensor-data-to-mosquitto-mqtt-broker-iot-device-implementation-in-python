{
 "cells": [
  {
   "cell_type": "code",
   "execution_count": 2,
   "metadata": {},
   "outputs": [],
   "source": [
    "import os\n",
    "import pandas as pd"
   ]
  },
  {
   "cell_type": "code",
   "execution_count": 12,
   "metadata": {},
   "outputs": [
    {
     "name": "stdout",
     "output_type": "stream",
     "text": [
      "Files and directories in ./coordinates/raw-routes :\n",
      "['dublin-wicklow-wexford-waterford-kilkenny-naas-raw.csv', 'limerick-area-route-1-raw.csv', 'dublin-cork-raw.csv', 'dublin-galway-raw.csv', 'galway-area-route-raw.csv', 'southern-ireland-route-raw.csv', 'limerick-area-route-2-raw.csv', 'dublin-limerick-raw.csv'] \n",
      "\n",
      "Processing: dublin-wicklow-wexford-waterford-kilkenny-naas-raw.csv\n",
      "Processed: /Users/javideveloper/work/vehicle-fleet-publishing-sensor-data-to-mosquitto-mqtt-broker-iot-device-implementation-in-python/mqtt-vehicle-fleet/iot/./coordinates/clean-routes/dublin-wicklow-wexford-waterford-kilkenny-naas-clean.csv\n",
      "Processing: limerick-area-route-1-raw.csv\n",
      "Processed: /Users/javideveloper/work/vehicle-fleet-publishing-sensor-data-to-mosquitto-mqtt-broker-iot-device-implementation-in-python/mqtt-vehicle-fleet/iot/./coordinates/clean-routes/limerick-area-route-1-clean.csv\n",
      "Processing: dublin-cork-raw.csv\n",
      "Processed: /Users/javideveloper/work/vehicle-fleet-publishing-sensor-data-to-mosquitto-mqtt-broker-iot-device-implementation-in-python/mqtt-vehicle-fleet/iot/./coordinates/clean-routes/dublin-cork-clean.csv\n",
      "Processing: dublin-galway-raw.csv\n",
      "Processed: /Users/javideveloper/work/vehicle-fleet-publishing-sensor-data-to-mosquitto-mqtt-broker-iot-device-implementation-in-python/mqtt-vehicle-fleet/iot/./coordinates/clean-routes/dublin-galway-clean.csv\n",
      "Processing: galway-area-route-raw.csv\n",
      "Processed: /Users/javideveloper/work/vehicle-fleet-publishing-sensor-data-to-mosquitto-mqtt-broker-iot-device-implementation-in-python/mqtt-vehicle-fleet/iot/./coordinates/clean-routes/galway-area-route-clean.csv\n",
      "Processing: southern-ireland-route-raw.csv\n",
      "Processed: /Users/javideveloper/work/vehicle-fleet-publishing-sensor-data-to-mosquitto-mqtt-broker-iot-device-implementation-in-python/mqtt-vehicle-fleet/iot/./coordinates/clean-routes/southern-ireland-route-clean.csv\n",
      "Processing: limerick-area-route-2-raw.csv\n",
      "Processed: /Users/javideveloper/work/vehicle-fleet-publishing-sensor-data-to-mosquitto-mqtt-broker-iot-device-implementation-in-python/mqtt-vehicle-fleet/iot/./coordinates/clean-routes/limerick-area-route-2-clean.csv\n",
      "Processing: dublin-limerick-raw.csv\n",
      "Processed: /Users/javideveloper/work/vehicle-fleet-publishing-sensor-data-to-mosquitto-mqtt-broker-iot-device-implementation-in-python/mqtt-vehicle-fleet/iot/./coordinates/clean-routes/dublin-limerick-clean.csv\n"
     ]
    }
   ],
   "source": [
    "from os import getcwd, path\n",
    "\n",
    "\n",
    "class DataProcessor:\n",
    "    def __init__(self) -> None:\n",
    "        self.raw_routes_path = \"./coordinates/raw-routes\"\n",
    "        self.clean_routes_path = \"./coordinates/clean-routes\"\n",
    "        self.rows_to_drop = {\n",
    "            'dublin-cork-raw.csv': 3,\n",
    "            'dublin-galway-raw.csv': 3,\n",
    "            'dublin-limerick-raw.csv': 3,\n",
    "            'dublin-wicklow-wexford-waterford-kilkenny-naas-raw.csv': 7,\n",
    "            'galway-area-route-raw.csv': 3,\n",
    "            'limerick-area-route-1-raw.csv': 5,\n",
    "            'limerick-area-route-2-raw.csv': 5, # TODO same as 1, change it\n",
    "            'southern-ireland-route-raw.csv': 3,\n",
    "        }\n",
    "        self._process_routes()\n",
    "\n",
    "    def _get_raw_data_files(self) -> list:\n",
    "        print(f\"Files and directories in {self.raw_routes_path} :\")\n",
    "        # files = os.listdir(self.raw_routes_path)\n",
    "        files = os.listdir(path.join(getcwd(), self.raw_routes_path))\n",
    "        print(files, '\\n')\n",
    "        return files\n",
    "\n",
    "    def _process_routes(self):\n",
    "        for file_path in self._get_raw_data_files():\n",
    "            print(f\"Processing: {file_path}\")\n",
    "            rows_to_drop = self.rows_to_drop[file_path]\n",
    "\n",
    "            # raw_file_path = self.raw_routes_path + file_path\n",
    "            raw_file_path = path.join(getcwd(), self.raw_routes_path, file_path)\n",
    "            df = pd.read_csv(raw_file_path, header=None).loc[rows_to_drop:, :1]\n",
    "            df.rename(columns={0: 'lat', 1: 'lon'}, inplace=True)\n",
    "\n",
    "            # clean_file_path = self.clean_routes_path + file_path.replace('-raw', '-clean')\n",
    "            clean_file_path = path.join(getcwd(), self.clean_routes_path, file_path.replace('-raw', '-clean'))\n",
    "            df.to_csv(clean_file_path, index=False)\n",
    "            print(f\"Processed: {clean_file_path}\")\n",
    "\n",
    "\n",
    "data = DataProcessor()"
   ]
  },
  {
   "cell_type": "code",
   "execution_count": 11,
   "metadata": {},
   "outputs": [],
   "source": [
    "# df = pd.read_csv(\"./coordinates/clean-routes/dublin-limerick-raw.csv\")\n",
    "\n",
    "# current_coords = df.iloc[0]\n",
    "\n",
    "# df.drop([df.index[0]], inplace=True)\n",
    "# df = pd.concat([df, current_coords.to_frame().T])\n",
    "\n",
    "# df"
   ]
  },
  {
   "cell_type": "code",
   "execution_count": null,
   "metadata": {},
   "outputs": [],
   "source": []
  },
  {
   "cell_type": "code",
   "execution_count": null,
   "metadata": {},
   "outputs": [],
   "source": []
  }
 ],
 "metadata": {
  "kernelspec": {
   "display_name": "mqtt",
   "language": "python",
   "name": "python3"
  },
  "language_info": {
   "codemirror_mode": {
    "name": "ipython",
    "version": 3
   },
   "file_extension": ".py",
   "mimetype": "text/x-python",
   "name": "python",
   "nbconvert_exporter": "python",
   "pygments_lexer": "ipython3",
   "version": "3.12.2"
  }
 },
 "nbformat": 4,
 "nbformat_minor": 2
}
